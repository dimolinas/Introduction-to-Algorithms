{
 "cells": [
  {
   "cell_type": "markdown",
   "source": [
    "## Fibonacci Recursive:\n",
    "### Time: $\\mathcal{O}(2^{n})$\n",
    "### Space: $\\mathcal{O}(n)$"
   ],
   "metadata": {
    "collapsed": false
   }
  },
  {
   "cell_type": "code",
   "execution_count": 48,
   "metadata": {
    "collapsed": true
   },
   "outputs": [
    {
     "data": {
      "text/plain": "8"
     },
     "execution_count": 48,
     "metadata": {},
     "output_type": "execute_result"
    }
   ],
   "source": [
    "def fib(n):\n",
    "    if n<=2:\n",
    "        return 1\n",
    "    return fib(n-1) + fib(n-2)\n",
    "fib(6)"
   ]
  },
  {
   "cell_type": "markdown",
   "source": [
    "### Fibonacci Recursive Memoization\n",
    "### Time: $\\mathcal{O}({n})$\n",
    "### Space: $\\mathcal{O}(n)$"
   ],
   "metadata": {
    "collapsed": false
   }
  },
  {
   "cell_type": "code",
   "execution_count": 19,
   "outputs": [
    {
     "data": {
      "text/plain": "12586269025"
     },
     "execution_count": 19,
     "metadata": {},
     "output_type": "execute_result"
    }
   ],
   "source": [
    "memo = [0]*200000\n",
    "def dm_fib(n):\n",
    "    if memo[n] != 0: return memo[n]\n",
    "    if n<=2:\n",
    "        memo[n]=1\n",
    "    else:\n",
    "        memo[n] = dm_fib(n-1) + dm_fib(n-2)\n",
    "    return memo[n]\n",
    "fib(50)"
   ],
   "metadata": {
    "collapsed": false
   }
  },
  {
   "cell_type": "markdown",
   "source": [
    "## Bottom-Up Fibonacci"
   ],
   "metadata": {
    "collapsed": false
   }
  },
  {
   "cell_type": "code",
   "execution_count": 49,
   "outputs": [
    {
     "data": {
      "text/plain": "12586269025"
     },
     "execution_count": 49,
     "metadata": {},
     "output_type": "execute_result"
    }
   ],
   "source": [
    "memo = [0]*2000\n",
    "memo[0] = 1\n",
    "memo[1] = 1\n",
    "\n",
    "def bt_fib(n):\n",
    "    global memo\n",
    "    if n<=2:\n",
    "        return memo[n-1]\n",
    "    else:\n",
    "        for i in range(2,n+1):\n",
    "            memo[i-1] = memo[i-2] + memo[i-3]\n",
    "    return memo[n-1]\n",
    "bt_fib(50)"
   ],
   "metadata": {
    "collapsed": false
   }
  },
  {
   "cell_type": "markdown",
   "source": [
    "## Problem:\n",
    "#### Time:$\\mathcal{O}(2^{n+m})$\n",
    "\n",
    "Say that you are  a traveler on a 2D grid. You begin in the top-left corner and your goal is to travel to the bottom-right corner. You may only move down or right. In how many ways can you travel to the goal on a grid with dimensions $m²$"
   ],
   "metadata": {
    "collapsed": false
   }
  },
  {
   "cell_type": "code",
   "execution_count": 2,
   "outputs": [
    {
     "data": {
      "text/plain": "3"
     },
     "execution_count": 2,
     "metadata": {},
     "output_type": "execute_result"
    }
   ],
   "source": [
    "#grid traveler\n",
    "import numpy as np\n",
    "def gt(n,m):\n",
    "    if n == 1 and m==1: return 1\n",
    "    if n <= 0 or m <= 0: return 0\n",
    "    else:\n",
    "        return gt(n-1,m) + gt(n,m-1)\n",
    "gt(2,3)\n"
   ],
   "metadata": {
    "collapsed": false
   }
  },
  {
   "cell_type": "markdown",
   "source": [
    "### Problem\n",
    "Write a function canSum(target sum, number) that takes in a targetSum and array of numbers as arguments. The function should return a boolean indicating whether or not it is possible to generate the targetSum using number from the array\n"
   ],
   "metadata": {
    "collapsed": false
   }
  },
  {
   "cell_type": "code",
   "execution_count": 6,
   "outputs": [
    {
     "data": {
      "text/plain": "False"
     },
     "execution_count": 6,
     "metadata": {},
     "output_type": "execute_result"
    }
   ],
   "source": [
    "def canSum(targetSum,numbers):\n",
    "    if targetSum == 0: return True\n",
    "    if targetSum < 0: return False\n",
    "    for i in numbers:\n",
    "        remainder = targetSum - i\n",
    "        if(canSum(remainder,numbers)== True):return True\n",
    "    return False\n",
    "\n",
    "canSum(7,[5,3,4,7])\n",
    "canSum(7,[2,4])"
   ],
   "metadata": {
    "collapsed": false
   }
  },
  {
   "cell_type": "markdown",
   "source": [
    "### Problem\n"
   ],
   "metadata": {
    "collapsed": false
   }
  },
  {
   "cell_type": "code",
   "execution_count": 14,
   "outputs": [
    {
     "name": "stdout",
     "output_type": "stream",
     "text": [
      "None\n"
     ]
    }
   ],
   "source": [
    "def howSum(targetSum, numbers):\n",
    "    if targetSum == 0: return []\n",
    "    if targetSum < 0: return None\n",
    "    for i in numbers:\n",
    "        remainder = targetSum - i\n",
    "        remainderResult = howSum(remainder,numbers)\n",
    "        if remainderResult != None:\n",
    "            return remainderResult.append(i);\n",
    "    return None\n",
    "print(howSum(7,[2,3]))"
   ],
   "metadata": {
    "collapsed": false
   }
  }
 ],
 "metadata": {
  "kernelspec": {
   "display_name": "Python 3",
   "language": "python",
   "name": "python3"
  },
  "language_info": {
   "codemirror_mode": {
    "name": "ipython",
    "version": 2
   },
   "file_extension": ".py",
   "mimetype": "text/x-python",
   "name": "python",
   "nbconvert_exporter": "python",
   "pygments_lexer": "ipython2",
   "version": "2.7.6"
  }
 },
 "nbformat": 4,
 "nbformat_minor": 0
}
