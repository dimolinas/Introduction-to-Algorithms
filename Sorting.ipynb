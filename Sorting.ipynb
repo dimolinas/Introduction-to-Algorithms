{
 "cells": [
  {
   "cell_type": "markdown",
   "source": [
    "# Sorting"
   ],
   "metadata": {
    "collapsed": false,
    "pycharm": {
     "name": "#%% md\n"
    }
   }
  },
  {
   "cell_type": "markdown",
   "source": [
    "## Insertion-Sort\n"
   ],
   "metadata": {
    "collapsed": false,
    "pycharm": {
     "name": "#%% md\n"
    }
   }
  },
  {
   "cell_type": "code",
   "execution_count": 14,
   "outputs": [
    {
     "name": "stdout",
     "output_type": "stream",
     "text": [
      "Unsorted Array :  [717, 6081, 8321, 928, 8519, 38, 9098, 7360, 9152, 2825, 2581, 6430, 4679, 7007, 5960]\n",
      "Sorted Array :  [38, 717, 928, 2581, 2825, 4679, 5960, 6081, 6430, 7007, 7360, 8321, 8519, 9098, 9152]\n"
     ]
    }
   ],
   "source": [
    "import random\n",
    "n = 15\n",
    "res = random.sample(range(1,10000),n)\n",
    "print(\"Unsorted Array : \",res)\n",
    "\n",
    "for i in range(1,len(res)):\n",
    "    key = res[i]\n",
    "    j = i - 1\n",
    "    while j >= 0 and key < res[j]:\n",
    "        res[j+1] = res[j]\n",
    "        j -= 1\n",
    "    res[j+1] = key\n",
    "print(\"Sorted Array : \",res)\n"
   ],
   "metadata": {
    "collapsed": false,
    "pycharm": {
     "name": "#%%\n"
    }
   }
  }
 ],
 "metadata": {
  "kernelspec": {
   "display_name": "Python 3",
   "language": "python",
   "name": "python3"
  },
  "language_info": {
   "codemirror_mode": {
    "name": "ipython",
    "version": 2
   },
   "file_extension": ".py",
   "mimetype": "text/x-python",
   "name": "python",
   "nbconvert_exporter": "python",
   "pygments_lexer": "ipython2",
   "version": "2.7.6"
  }
 },
 "nbformat": 4,
 "nbformat_minor": 0
}