{
 "cells": [
  {
   "cell_type": "markdown",
   "source": [
    "# Sorting"
   ],
   "metadata": {
    "collapsed": false
   }
  },
  {
   "cell_type": "markdown",
   "source": [
    "## Insertion-Sort\n"
   ],
   "metadata": {
    "collapsed": false
   }
  },
  {
   "cell_type": "code",
   "execution_count": 37,
   "outputs": [
    {
     "name": "stdout",
     "output_type": "stream",
     "text": [
      "Unsorted Array: \t [1835, 1804, 4915, 278, 5608, 3488, 3524, 7655, 5130, 543, 9129, 5078, 2288, 9853, 2737]\n",
      "Sorted Array: \t [278, 543, 1804, 1835, 2288, 2737, 3488, 3524, 4915, 5078, 5130, 5608, 7655, 9129, 9853]\n"
     ]
    }
   ],
   "source": [
    "import math\n",
    "import random\n",
    "n = 15\n",
    "res = random.sample(range(1,10000),n)\n",
    "print(\"Unsorted Array: \\t\",res)\n",
    "\n",
    "def insertion_sort(res,n):\n",
    "    for i in range(1,n):\n",
    "        key = res[i]\n",
    "        j = i - 1\n",
    "        while j >= 0 and key < res[j]:\n",
    "            res[j+1] = res[j]\n",
    "            j -= 1\n",
    "        res[j+1] = key\n",
    "    return res\n",
    "print(\"Sorted Array: \\t\",insertion_sort(res,n))\n"
   ],
   "metadata": {
    "collapsed": false
   }
  },
  {
   "cell_type": "markdown",
   "source": [
    "## Merge-Sort\n"
   ],
   "metadata": {
    "collapsed": false
   }
  },
  {
   "cell_type": "code",
   "execution_count": null,
   "outputs": [],
   "source": [
    "import random\n",
    "n = 10          #array's len\n",
    "res = random.sample(range(1,1000),n)\n",
    "print(\"Unsorted Array: \", res)\n",
    "\n",
    "def merge(res,lower,middle,upper):\n",
    "\n",
    "    left = res[lower:middle+1]\n",
    "    right = res[middle+1:upper+1]\n",
    "\n",
    "    left.append(math.inf)\n",
    "    right.append(math.inf)\n",
    "\n",
    "    i = j = 0\n",
    "\n",
    "    for k in range(lower,upper+1):\n",
    "        if left[i] <= right[j]:\n",
    "            res[k] = left[i]\n",
    "            i += 1\n",
    "        else:\n",
    "            res[k] = right[j]\n",
    "            j += 1\n",
    "\n",
    "\n",
    "\n",
    "def merge_sort(res,lower,upper):\n",
    "\n",
    "    if lower < upper:\n",
    "        middle = (upper+lower)//2\n",
    "        merge_sort(res,lower,middle)\n",
    "        merge_sort(res,middle+1,upper)\n",
    "        merge(res,lower,middle,upper)\n",
    "\n",
    "merge_sort(res,0,n-1)\n",
    "print(\"Sorted Array: \",res)"
   ],
   "metadata": {
    "collapsed": false
   }
  },
  {
   "cell_type": "markdown",
   "source": [
    "## Selection Sort"
   ],
   "metadata": {
    "collapsed": false
   }
  },
  {
   "cell_type": "code",
   "execution_count": 61,
   "outputs": [
    {
     "name": "stdout",
     "output_type": "stream",
     "text": [
      "Unsorted Array:  [869, 57, 542, 552, 31, 211, 721, 228, 576, 346]\n",
      "Sorted Array:  [31, 57, 211, 228, 346, 542, 552, 576, 721, 869]\n"
     ]
    }
   ],
   "source": [
    "import random\n",
    "n = 10          #array's len\n",
    "res = random.sample(range(1,1000),n)\n",
    "print(\"Unsorted Array: \", res)\n",
    "\n",
    "def selection_sort(res):\n",
    "    for i in range(0,len(res)-1):\n",
    "        min_index = i\n",
    "        for j in range(i+1,len(res)):\n",
    "            if res[min_index] > res[j]:\n",
    "                min_index = j\n",
    "        tmp = res[min_index]\n",
    "        res[min_index] = res[i]\n",
    "        res[i] = tmp\n",
    "\n",
    "selection_sort(res)\n",
    "print(\"Sorted Array: \", res)"
   ],
   "metadata": {
    "collapsed": false
   }
  },
  {
   "cell_type": "markdown",
   "source": [
    "## Recursive Insertion Sort"
   ],
   "metadata": {
    "collapsed": false
   }
  },
  {
   "cell_type": "code",
   "execution_count": null,
   "outputs": [],
   "source": [
    "\n",
    "\n",
    "def recursive_insertion_sort(A,n):\n",
    "    if n >= 1:\n",
    "        recursive_insertion_sort(A,n-1)\n",
    "        key = A[n]\n",
    "        while n > 0 and key < A[n-1]:\n",
    "            A[n] = A[n-1]\n",
    "            n = n - 1\n",
    "        A[n] = key\n",
    "recursive_insertion_sort(res,n-1)\n",
    "print(\"Sorted Array: \",res)"
   ],
   "metadata": {
    "collapsed": false
   }
  },
  {
   "cell_type": "markdown",
   "source": [
    "\n",
    "## Quick Sort\n"
   ],
   "metadata": {
    "collapsed": false
   }
  },
  {
   "cell_type": "code",
   "execution_count": 25,
   "outputs": [
    {
     "name": "stdout",
     "output_type": "stream",
     "text": [
      "Unsorted Array:  [444, 573, 274, 532, 748, 251, 163, 288, 873, 362]\n",
      "Sorted Array:  [163, 251, 274, 288, 362, 444, 532, 573, 748, 873]\n"
     ]
    }
   ],
   "source": [
    "import random\n",
    "n = 10          #array's len\n",
    "res = random.sample(range(1,1000),n)\n",
    "print(\"Unsorted Array: \", res)\n",
    "\n",
    "def partition(A,p,r):\n",
    "    pivot = A[r]\n",
    "    i = p - 1\n",
    "    for j in range(p,r):\n",
    "        if A[j] <= pivot:\n",
    "            i = i + 1\n",
    "            A[i],A[j] = A[j],A[i]\n",
    "    A[r], A[i+1] = A[i+1], A[r]\n",
    "    return i + 1\n",
    "\n",
    "def quick_sort(res,p,r):\n",
    "    if p < r:\n",
    "        index_pivot = partition(res,p,r)\n",
    "        quick_sort(res,p,index_pivot-1)\n",
    "        quick_sort(res,index_pivot+1,r)\n",
    "\n",
    "quick_sort(res,0,len(res)-1)\n",
    "print(\"Sorted Array: \",res)"
   ],
   "metadata": {
    "collapsed": false
   }
  },
  {
   "cell_type": "code",
   "execution_count": null,
   "outputs": [],
   "source": [],
   "metadata": {
    "collapsed": false
   }
  }
 ],
 "metadata": {
  "kernelspec": {
   "display_name": "Python 3",
   "language": "python",
   "name": "python3"
  },
  "language_info": {
   "codemirror_mode": {
    "name": "ipython",
    "version": 2
   },
   "file_extension": ".py",
   "mimetype": "text/x-python",
   "name": "python",
   "nbconvert_exporter": "python",
   "pygments_lexer": "ipython2",
   "version": "2.7.6"
  }
 },
 "nbformat": 4,
 "nbformat_minor": 0
}
