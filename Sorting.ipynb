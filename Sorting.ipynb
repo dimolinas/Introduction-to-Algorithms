{
 "cells": [
  {
   "cell_type": "markdown",
   "source": [
    "# Sorting"
   ],
   "metadata": {
    "collapsed": false,
    "pycharm": {
     "name": "#%% md\n"
    }
   }
  },
  {
   "cell_type": "markdown",
   "source": [
    "## Insertion-Sort\n"
   ],
   "metadata": {
    "collapsed": false,
    "pycharm": {
     "name": "#%% md\n"
    }
   }
  },
  {
   "cell_type": "code",
   "execution_count": 37,
   "outputs": [
    {
     "name": "stdout",
     "output_type": "stream",
     "text": [
      "Unsorted Array: \t [1835, 1804, 4915, 278, 5608, 3488, 3524, 7655, 5130, 543, 9129, 5078, 2288, 9853, 2737]\n",
      "Sorted Array: \t [278, 543, 1804, 1835, 2288, 2737, 3488, 3524, 4915, 5078, 5130, 5608, 7655, 9129, 9853]\n"
     ]
    }
   ],
   "source": [
    "import math\n",
    "import random\n",
    "n = 15\n",
    "res = random.sample(range(1,10000),n)\n",
    "print(\"Unsorted Array: \\t\",res)\n",
    "\n",
    "def insertion_sort(res,n):\n",
    "    for i in range(1,n):\n",
    "        key = res[i]\n",
    "        j = i - 1\n",
    "        while j >= 0 and key < res[j]:\n",
    "            res[j+1] = res[j]\n",
    "            j -= 1\n",
    "        res[j+1] = key\n",
    "    return res\n",
    "print(\"Sorted Array: \\t\",insertion_sort(res,n))\n"
   ],
   "metadata": {
    "collapsed": false,
    "pycharm": {
     "name": "#%%\n"
    }
   }
  },
  {
   "cell_type": "markdown",
   "source": [
    "## Merge-Sort\n"
   ],
   "metadata": {
    "collapsed": false,
    "pycharm": {
     "name": "#%% md\n"
    }
   }
  },
  {
   "cell_type": "code",
   "execution_count": 41,
   "outputs": [
    {
     "name": "stdout",
     "output_type": "stream",
     "text": [
      "Unsorted Array:  [105, 761, 888, 799, 860, 955, 486, 62, 30, 869]\n",
      "Sorted Array:  [30, 62, 105, 486, 761, 799, 860, 869, 888, 955]\n"
     ]
    }
   ],
   "source": [
    "import random\n",
    "n = 10          #array's len\n",
    "res = random.sample(range(1,1000),n)\n",
    "print(\"Unsorted Array: \", res)\n",
    "\n",
    "def merge(res,lower,middle,upper):\n",
    "\n",
    "    left = res[lower:middle+1]\n",
    "    right = res[middle+1:upper+1]\n",
    "\n",
    "    left.append(math.inf)\n",
    "    right.append(math.inf)\n",
    "\n",
    "    i = j = 0\n",
    "\n",
    "    for k in range(lower,upper+1):\n",
    "        if left[i] <= right[j]:\n",
    "            res[k] = left[i]\n",
    "            i += 1\n",
    "        else:\n",
    "            res[k] = right[j]\n",
    "            j += 1\n",
    "\n",
    "\n",
    "\n",
    "def merge_sort(res,lower,upper):\n",
    "\n",
    "    if lower < upper:\n",
    "        middle = (upper+lower)//2\n",
    "        merge_sort(res,lower,middle)\n",
    "        merge_sort(res,middle+1,upper)\n",
    "        merge(res,lower,middle,upper)\n",
    "\n",
    "merge_sort(res,0,n-1)\n",
    "print(\"Sorted Array: \",res)"
   ],
   "metadata": {
    "collapsed": false,
    "pycharm": {
     "name": "#%%\n"
    }
   }
  },
  {
   "cell_type": "code",
   "execution_count": 41,
   "outputs": [],
   "source": [],
   "metadata": {
    "collapsed": false,
    "pycharm": {
     "name": "#%%\n"
    }
   }
  },
  {
   "cell_type": "code",
   "execution_count": 25,
   "outputs": [],
   "source": [],
   "metadata": {
    "collapsed": false,
    "pycharm": {
     "name": "#%%\n"
    }
   }
  }
 ],
 "metadata": {
  "kernelspec": {
   "display_name": "Python 3",
   "language": "python",
   "name": "python3"
  },
  "language_info": {
   "codemirror_mode": {
    "name": "ipython",
    "version": 2
   },
   "file_extension": ".py",
   "mimetype": "text/x-python",
   "name": "python",
   "nbconvert_exporter": "python",
   "pygments_lexer": "ipython2",
   "version": "2.7.6"
  }
 },
 "nbformat": 4,
 "nbformat_minor": 0
}